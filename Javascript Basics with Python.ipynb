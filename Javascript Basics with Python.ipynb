{
 "cells": [
  {
   "cell_type": "markdown",
   "metadata": {},
   "source": [
    "<a id = \"0\"></a><br>\n",
    "# Javascript Basics with Python\n",
    "\n",
    "In this notebook, I will explain Javascript Basics with the help of Python. First, I will explain how you can use Javascript on Juypter Notebook via magic command and the Ipyhton Javascript module. Then, I will focus on Variables, Functions, Operators, Conditions, Loops, and Collections in Javascript.\n",
    "\n",
    "<font color = 'blue'>\n",
    "\n",
    "#### TABLE OF CONTENTS\n",
    "\n",
    "<ul>\n",
    "    <li><a href=\"#1\"> How can we use Javascript with Python (on Jupyter Notebook)? </a></li>\n",
    "    <li><a href=\"#2\"> Javascript Basics </a></li>\n",
    "    <ul>\n",
    "        <li><a href=\"#3\"> Variables </a></li>\n",
    "        <li><a href=\"#4\"> Functions </a></li>\n",
    "        <li><a href=\"#5\"> Operators </a></li>\n",
    "        <ul>\n",
    "            <li><a href=\"#6\"> Arithmetic operators </a></li>\n",
    "            <li><a href=\"#7\"> Assignment operators </a></li>\n",
    "            <li><a href=\"#8\"> Comparison operators </a></li>\n",
    "            <li><a href=\"#9\"> Logical Operators </a></li>\n",
    "            <li><a href=\"#10\"> Conditional statements </a></li>\n",
    "            <li><a href=\"#11\"> Loops </a></li>\n",
    "            <ul>\n",
    "                <li><a href=\"#12\"> for Loops </a></li>\n",
    "                <li><a href=\"#13\"> while Loops </a></li>\n",
    "            </ul>\n",
    "            <li><a href=\"#14\"> switch-case </a></li>\n",
    "        </ul>\n",
    "        <li><a href=\"#15\"> Collections </a></li>\n",
    "        <ul>\n",
    "            <li><a href=\"#16\"> Array </a></li>\n",
    "            <li><a href=\"#17\"> forEach </a></li>\n",
    "            <li><a href=\"#18\"> Object.entries method </a></li>\n",
    "            <li><a href=\"#19\"> Map </a></li>\n",
    "        </ul>\n",
    "    </ul>\n",
    "    \n",
    "</ul>"
   ]
  },
  {
   "cell_type": "markdown",
   "metadata": {},
   "source": [
    "<p id=\"1\"></p> <br>\n",
    "\n",
    "# How can we use Javascript with Python (on Jupyter Notebook)?\n",
    "\n",
    "The first method to use Javascript on Jupyter Notebook is magic command."
   ]
  },
  {
   "cell_type": "code",
   "execution_count": 1,
   "metadata": {},
   "outputs": [
    {
     "data": {
      "application/javascript": [
       "alert(\"Hello World!\")\n"
      ],
      "text/plain": [
       "<IPython.core.display.Javascript object>"
      ]
     },
     "metadata": {},
     "output_type": "display_data"
    }
   ],
   "source": [
    "%%js \n",
    "alert(\"Hello World!\")"
   ]
  },
  {
   "cell_type": "code",
   "execution_count": 2,
   "metadata": {},
   "outputs": [
    {
     "data": {
      "application/javascript": [
       "var a = 2\n",
       "var b = 4\n",
       "var c = a+b\n",
       "element.text(c)\n"
      ],
      "text/plain": [
       "<IPython.core.display.Javascript object>"
      ]
     },
     "metadata": {},
     "output_type": "display_data"
    }
   ],
   "source": [
    "%%js \n",
    "var a = 2\n",
    "var b = 4\n",
    "var c = a+b\n",
    "element.text(c)"
   ]
  },
  {
   "cell_type": "markdown",
   "metadata": {},
   "source": [
    "The second method of using Javascript with Python is importing Javascript module from Ipython. "
   ]
  },
  {
   "cell_type": "code",
   "execution_count": 3,
   "metadata": {},
   "outputs": [
    {
     "data": {
      "application/javascript": [
       "alert(\"Hello World!\")"
      ],
      "text/plain": [
       "<IPython.core.display.Javascript object>"
      ]
     },
     "metadata": {},
     "output_type": "display_data"
    }
   ],
   "source": [
    "# import Javascript module\n",
    "from IPython.display import Javascript\n",
    "\n",
    "#try it\n",
    "example = Javascript('alert(\"Hello World!\")')\n",
    "display(example)"
   ]
  },
  {
   "cell_type": "code",
   "execution_count": 4,
   "metadata": {},
   "outputs": [
    {
     "data": {
      "application/javascript": [
       "\n",
       "        var a = 2\n",
       "        var b = 4\n",
       "        var c = a+b\n",
       "        element.text(c)\n",
       "        \n",
       "    "
      ],
      "text/plain": [
       "<IPython.core.display.Javascript object>"
      ]
     },
     "metadata": {},
     "output_type": "display_data"
    },
    {
     "data": {
      "application/javascript": [
       "\n",
       "                        var a = 2\n",
       "                        var b = 4\n",
       "                        var c = a+b\n",
       "                        element.text(c)\n",
       "\n",
       "                    "
      ],
      "text/plain": [
       "<IPython.core.display.Javascript object>"
      ]
     },
     "metadata": {},
     "output_type": "display_data"
    }
   ],
   "source": [
    "# for multiple lines\n",
    "\n",
    "js=\"\"\"\n",
    "        var a = 2\n",
    "        var b = 4\n",
    "        var c = a+b\n",
    "        element.text(c)\n",
    "        \n",
    "    \"\"\"\n",
    "jsvar = Javascript(js)\n",
    "display(jsvar)\n",
    "\n",
    "# or\n",
    "\n",
    "# for multiple lines\n",
    "\n",
    "jsvar = Javascript(\n",
    "                    \"\"\"\n",
    "                        var a = 2\n",
    "                        var b = 4\n",
    "                        var c = a+b\n",
    "                        element.text(c)\n",
    "\n",
    "                    \"\"\"\n",
    "                    )\n",
    "\n",
    "display(jsvar)"
   ]
  },
  {
   "cell_type": "markdown",
   "metadata": {},
   "source": [
    "<p id=\"2\"></p> <br>\n",
    "\n",
    "# Javascript Basics\n",
    "\n",
    "<p id=\"3\"></p> <br>\n",
    "\n",
    "## Variables"
   ]
  },
  {
   "cell_type": "markdown",
   "metadata": {},
   "source": [
    "- Both let and var can be used to create variables. var is used when you want the variable to have global scope and let is used when you want the variable to have scope within the block where it is created.\n",
    "- Const is used to declare variable whose values can never change"
   ]
  },
  {
   "cell_type": "code",
   "execution_count": 5,
   "metadata": {},
   "outputs": [
    {
     "data": {
      "application/javascript": [
       "\n",
       "let num = 2\n",
       "var mystr = \"Nurgul\"\n",
       "element.append(num +  \"<br>\" + mystr)\n"
      ],
      "text/plain": [
       "<IPython.core.display.Javascript object>"
      ]
     },
     "metadata": {},
     "output_type": "display_data"
    }
   ],
   "source": [
    "%%js \n",
    "\n",
    "let num = 2\n",
    "var mystr = \"Nurgul\"\n",
    "element.append(num +  \"<br>\" + mystr)"
   ]
  },
  {
   "cell_type": "code",
   "execution_count": 6,
   "metadata": {},
   "outputs": [
    {
     "data": {
      "application/javascript": [
       "\n",
       "const pi_val = 3.147\n",
       "element.text(pi_val)\n"
      ],
      "text/plain": [
       "<IPython.core.display.Javascript object>"
      ]
     },
     "metadata": {},
     "output_type": "display_data"
    }
   ],
   "source": [
    "%%js \n",
    "\n",
    "const pi_val = 3.147\n",
    "element.text(pi_val)"
   ]
  },
  {
   "cell_type": "markdown",
   "metadata": {},
   "source": [
    "<p id=\"4\"></p> <br>\n",
    "\n",
    "## Functions"
   ]
  },
  {
   "cell_type": "code",
   "execution_count": 7,
   "metadata": {},
   "outputs": [
    {
     "data": {
      "application/javascript": [
       "\n",
       "                    //create function\n",
       "                        function printMyInput(user_input) {\n",
       "                    element.append(\"The parameter input is \" + user_input +  \"<br>\")\n",
       "                }\n",
       "                    //call the function\n",
       "                    printMyInput(2)\n",
       "                    printMyInput(\"Nurgul\")\n",
       "\n",
       "                    "
      ],
      "text/plain": [
       "<IPython.core.display.Javascript object>"
      ]
     },
     "metadata": {},
     "output_type": "display_data"
    }
   ],
   "source": [
    "#create a function\n",
    "jsvar = Javascript(\n",
    "                    \"\"\"\n",
    "                    //create function\n",
    "                        function printMyInput(user_input) {\n",
    "                    element.append(\"The parameter input is \" + user_input +  \"<br>\")\n",
    "                }\n",
    "                    //call the function\n",
    "                    printMyInput(2)\n",
    "                    printMyInput(\"Nurgul\")\n",
    "\n",
    "                    \"\"\"\n",
    "                    )\n",
    "\n",
    "display(jsvar)\n"
   ]
  },
  {
   "cell_type": "code",
   "execution_count": 8,
   "metadata": {},
   "outputs": [
    {
     "data": {
      "application/javascript": [
       "\n",
       "                    // create a function according to the ES6 standard\n",
       "                    let printMyInputES6 = user_input => element.append(\"The parameter input is \" + user_input + \"</br>\")\n",
       "                    \n",
       "                    //call the function\n",
       "                    printMyInputES6(2)\n",
       "                    printMyInputES6(\"Nurgul\")\n",
       "                    \n",
       "                    "
      ],
      "text/plain": [
       "<IPython.core.display.Javascript object>"
      ]
     },
     "metadata": {},
     "output_type": "display_data"
    }
   ],
   "source": [
    "# create a function according to the ES6 standard\n",
    "jsvar = Javascript(\n",
    "                    \"\"\"\n",
    "                    // create a function according to the ES6 standard\n",
    "                    let printMyInputES6 = user_input => element.append(\"The parameter input is \" + user_input + \"</br>\")\n",
    "                    \n",
    "                    //call the function\n",
    "                    printMyInputES6(2)\n",
    "                    printMyInputES6(\"Nurgul\")\n",
    "                    \n",
    "                    \"\"\"\n",
    "                    )\n",
    "display(jsvar)"
   ]
  },
  {
   "cell_type": "markdown",
   "metadata": {},
   "source": [
    "<p id=\"5\"></p> <br>\n",
    "\n",
    "## Operators"
   ]
  },
  {
   "cell_type": "markdown",
   "metadata": {},
   "source": [
    "<p id=\"6\"></p> <br>\n",
    "\n",
    "<b>Arithmetic operators</b> are operators that we use to perform arithmetic operations.\n",
    "- \"+\" (plus) operator is used to add\n",
    "- \"-\" (minus) operator is used to subtract)\n",
    "- \"*\" (star or asterisk) operator is used to multiply\n",
    "- \"/\" (slash) operator is used to divide\n",
    "- \"**\" (double star) operator is used for exponentiation/power\n",
    "- \"%\" (percentage) operator is used for modulus operation"
   ]
  },
  {
   "cell_type": "code",
   "execution_count": 9,
   "metadata": {},
   "outputs": [
    {
     "data": {
      "application/javascript": [
       "\n",
       "element.append(\"5 + 3 = \",5+3,\"</br>\")\n",
       "element.append(\"7 - 3 = \",7-3,\"</br>\")\n",
       "element.append(\"8 * 2 = \",8*2,\"</br>\")\n",
       "element.append(\"27 / 3 = \",27/3,\"</br>\")\n",
       "element.append(\"4 power 3 = \",4 ** 3,\"</br>\")\n",
       "element.append(\"19 mod 4 = \",19%4,\"</br>\")\n"
      ],
      "text/plain": [
       "<IPython.core.display.Javascript object>"
      ]
     },
     "metadata": {},
     "output_type": "display_data"
    }
   ],
   "source": [
    "%%js \n",
    "\n",
    "element.append(\"5 + 3 = \",5+3,\"</br>\")\n",
    "element.append(\"7 - 3 = \",7-3,\"</br>\")\n",
    "element.append(\"8 * 2 = \",8*2,\"</br>\")\n",
    "element.append(\"27 / 3 = \",27/3,\"</br>\")\n",
    "element.append(\"4 power 3 = \",4 ** 3,\"</br>\")\n",
    "element.append(\"19 mod 4 = \",19%4,\"</br>\")"
   ]
  },
  {
   "cell_type": "markdown",
   "metadata": {},
   "source": [
    "<p id=\"7\"></p> <br>\n",
    "\n",
    "<b>Assignment operators </b> are operators that are used to assign values to variables\n",
    "\n",
    "- \"=\" operator is used to assign value on the right to the variable on left\n",
    "- \"+=\" operator is used to increment the value stored in the left operand by the value of the right operand and store it back to the left operand\n",
    "- \"-=\" operator is used to decrement the value stored in the left operand by the value of the right operand and store it back to the left operand\n",
    "- \"*=\" operator is used to multiply the value stored in the left operand by the value of the right operand and store it back to the left operand\n",
    "- \"/=\" operator is used to divide the value stored in the left operand by the value of the right operand and store it back to the left operand\n",
    "- \"**=\" operator is used to raise the value stored in the left operand to the power value of the right operand and store it back to the left operand\n",
    "- \"%=\" operator is used to get modulus of the value stored in the left operand by value of the right operand and store it back to the left operand"
   ]
  },
  {
   "cell_type": "code",
   "execution_count": 10,
   "metadata": {},
   "outputs": [
    {
     "data": {
      "application/javascript": [
       "\n",
       "var x = 5\n",
       "element.append(\"Old value x \",x,\"</br>\")\n",
       "x += 3\n",
       "element.append(\"New value x \",x,\"</br>\")\n",
       "\n",
       "var y = 5\n",
       "element.append(\"Old value y \",y,\"</br>\")\n",
       "y -= 3\n",
       "element.append(\"New value y \",y,\"</br>\")\n",
       "var a = 6\n",
       "element.append(\"Old value a \",a,\"</br>\")\n",
       "a *= 3\n",
       "element.append(\"New value a \",a,\"</br>\")\n",
       "\n",
       "var b = 6\n",
       "element.append(\"Old value b \",b,\"</br>\")\n",
       "b /= 3\n",
       "element.append(\"New value b \",b,\"</br>\")\n",
       "\n",
       "var c = 6\n",
       "element.append(\"Old value c \",c,\"</br>\")\n",
       "c %= 3\n",
       "element.append(\"New value c \",c,\"</br>\")\n",
       "\n",
       "var d = 6\n",
       "element.append(\"Old value d \",d,\"</br>\")\n",
       "d **= 3\n",
       "element.append(\"New value d \",d,\"</br>\")\n"
      ],
      "text/plain": [
       "<IPython.core.display.Javascript object>"
      ]
     },
     "metadata": {},
     "output_type": "display_data"
    }
   ],
   "source": [
    "%%js\n",
    "\n",
    "var x = 5\n",
    "element.append(\"Old value x \",x,\"</br>\")\n",
    "x += 3\n",
    "element.append(\"New value x \",x,\"</br>\")\n",
    "\n",
    "var y = 5\n",
    "element.append(\"Old value y \",y,\"</br>\")\n",
    "y -= 3\n",
    "element.append(\"New value y \",y,\"</br>\")\n",
    "var a = 6\n",
    "element.append(\"Old value a \",a,\"</br>\")\n",
    "a *= 3\n",
    "element.append(\"New value a \",a,\"</br>\")\n",
    "\n",
    "var b = 6\n",
    "element.append(\"Old value b \",b,\"</br>\")\n",
    "b /= 3\n",
    "element.append(\"New value b \",b,\"</br>\")\n",
    "\n",
    "var c = 6\n",
    "element.append(\"Old value c \",c,\"</br>\")\n",
    "c %= 3\n",
    "element.append(\"New value c \",c,\"</br>\")\n",
    "\n",
    "var d = 6\n",
    "element.append(\"Old value d \",d,\"</br>\")\n",
    "d **= 3\n",
    "element.append(\"New value d \",d,\"</br>\")"
   ]
  },
  {
   "cell_type": "markdown",
   "metadata": {},
   "source": [
    "<p id=\"8\"></p> <br>\n",
    "\n",
    "<b>Comparison Operators</b> are used to compare values or variables against values or other variables\n",
    "- \"==\" operator checks if the operand on the left is of equal value to the operand on right\n",
    "- \"===\" operator checks if the operand on the left is of equal value and equal type to the operand on right\n",
    "- \"!=\" operator checks if the operand on the left is not of equal value to the operand on right\n",
    "- \">\" operator checks if the operand on the left is greater than that on the right\n",
    "- \"<\" operator checks if the operand on the left is lesser than that on the right\n",
    "- \">=\" operator checks if the operand on the left is greater than or equal to that on the right\n",
    "- \"<=\" operator checks if the operand on the left is lesser than or equal to that on the right"
   ]
  },
  {
   "cell_type": "markdown",
   "metadata": {},
   "source": [
    "<p id=\"9\"></p> <br>\n",
    "\n",
    "<b>Logical Operators</b> are used to combine more than one conditions.\n",
    "&& operator checks if the condition on left and right are true. Returns true only of both conditions are true. Else returns false.\n",
    "|| operators checked if either the condition on the left is true or right is true. Returns true even if one of the two conditions is true.\n",
    "! operator checks if the condition is not met."
   ]
  },
  {
   "cell_type": "markdown",
   "metadata": {},
   "source": [
    "<p id=\"10\"></p> <br>\n",
    "\n",
    "<b>Conditional statements</b> (if-else-else if)"
   ]
  },
  {
   "cell_type": "code",
   "execution_count": 11,
   "metadata": {},
   "outputs": [
    {
     "data": {
      "application/javascript": [
       "\n",
       "            let user_input = prompt('Enter a value')\n",
       "\n",
       "            //check if the user input is not a number\n",
       "            if(isNaN(user_input)) {\n",
       "                element.append('Your input is ', user_input, '</br>')\n",
       "                element.append('The length of your input is ', user_input.length, '</br>')\n",
       "            } else {\n",
       "                element.append(user_input, \"X 1 = \", user_input, \"</br>\")\n",
       "                element.append(user_input, \"X 2 = \", user_input, \"</br>\")\n",
       "                element.append(user_input, \"X 3 = \", user_input, \"</br>\")\n",
       "                element.append(user_input, \"X 4 = \", user_input, \"</br>\")\n",
       "                element.append(user_input, \"X 5 = \", user_input, \"</br>\")\n",
       "            }\n",
       "        "
      ],
      "text/plain": [
       "<IPython.core.display.Javascript object>"
      ]
     },
     "metadata": {},
     "output_type": "display_data"
    }
   ],
   "source": [
    "\"\"\"\n",
    "Accept a input from the user. If it is a number print the multiplication table for the number. \n",
    "Else print the input and the length of the input.\n",
    "\"\"\"\n",
    "\n",
    "jsvar = Javascript(\"\"\"\n",
    "            let user_input = prompt('Enter a value')\n",
    "\n",
    "            //check if the user input is not a number\n",
    "            if(isNaN(user_input)) {\n",
    "                element.append('Your input is ', user_input, '</br>')\n",
    "                element.append('The length of your input is ', user_input.length, '</br>')\n",
    "            } else {\n",
    "                element.append(user_input, \"X 1 = \", user_input, \"</br>\")\n",
    "                element.append(user_input, \"X 2 = \", user_input, \"</br>\")\n",
    "                element.append(user_input, \"X 3 = \", user_input, \"</br>\")\n",
    "                element.append(user_input, \"X 4 = \", user_input, \"</br>\")\n",
    "                element.append(user_input, \"X 5 = \", user_input, \"</br>\")\n",
    "            }\n",
    "        \"\"\")\n",
    "\n",
    "display(jsvar)"
   ]
  },
  {
   "cell_type": "markdown",
   "metadata": {},
   "source": [
    "<p id=\"11\"></p> <br>\n",
    "\n",
    "### Loops\n",
    "\n",
    "<p id=\"12\"></p> <br>\n",
    "\n",
    "<b>for Loops</b> have an initial value, condition based on which the loop is executed and an incremental value."
   ]
  },
  {
   "cell_type": "code",
   "execution_count": 12,
   "metadata": {},
   "outputs": [
    {
     "data": {
      "application/javascript": [
       "\n",
       "\n",
       "                        let user_input = prompt('Enter a number');\n",
       "\n",
       "                        //check if the user input is not a number\n",
       "\n",
       "                        if(!isNaN(user_input)) {\n",
       "                        \n",
       "                            //Using for loop for the repitive statement\n",
       "                            for(let i=0; i<10; i++) {\n",
       "                                element.append(user_input, \"X \", i, \" = \", user_input*i, \"</br>\")\n",
       "                            }\n",
       "                        }\n",
       "                        \n",
       "                    "
      ],
      "text/plain": [
       "<IPython.core.display.Javascript object>"
      ]
     },
     "metadata": {},
     "output_type": "display_data"
    }
   ],
   "source": [
    "\"\"\"\n",
    "Accept a input from the user. If it is a number print the multiplication table for the number. \n",
    "\"\"\"\n",
    "\n",
    "jsvar = Javascript(\"\"\"\n",
    "\n",
    "                        let user_input = prompt('Enter a number');\n",
    "\n",
    "                        //check if the user input is not a number\n",
    "\n",
    "                        if(!isNaN(user_input)) {\n",
    "                        \n",
    "                            //Using for loop for the repitive statement\n",
    "                            for(let i=0; i<10; i++) {\n",
    "                                element.append(user_input, \"X \", i, \" = \", user_input*i, \"</br>\")\n",
    "                            }\n",
    "                        }\n",
    "                        \n",
    "                    \"\"\")\n",
    "\n",
    "display(jsvar)"
   ]
  },
  {
   "cell_type": "markdown",
   "metadata": {},
   "source": [
    "<p id=\"13\"></p> <br>\n",
    "\n",
    "<b>while Loops</b> "
   ]
  },
  {
   "cell_type": "code",
   "execution_count": 15,
   "metadata": {},
   "outputs": [
    {
     "data": {
      "application/javascript": [
       "\n",
       "\n",
       "                        let do_more = true;\n",
       "\n",
       "                        while(do_more) {\n",
       "                                               \n",
       "                            //Accept a input from the user. \n",
       "                            let user_input = prompt(\"Enter a word\");\n",
       "                            \n",
       "                            //check if the user input is not a number and then print the length of the input\n",
       "                            \n",
       "                            if(isNaN(user_input)) {\n",
       "                                element.append(\"The length of the word is \"+ user_input.length+ \"</br>\")\n",
       "                            } else {\n",
       "                                element.append(\"You entered number. Only words are allowed. </br>\")\n",
       "                            \n",
       "                            }\n",
       "                            \n",
       "                            let should_continue = prompt(\"Do you want to continue? Press 'n' to stop.\")\n",
       "                            \n",
       "                            if(should_continue === \"n\") {\n",
       "                                do_more = false\n",
       "                            }\n",
       "                            \n",
       "                        }\n",
       "                        \n",
       "                    "
      ],
      "text/plain": [
       "<IPython.core.display.Javascript object>"
      ]
     },
     "metadata": {},
     "output_type": "display_data"
    }
   ],
   "source": [
    "\"\"\"\n",
    "The code below is to find the length of the words the user is entering. \n",
    "The loop will go on and on until the user chooses not to continue by pressing 'n'\n",
    "\"\"\"\n",
    "\n",
    "jsvar = Javascript(\"\"\"\n",
    "\n",
    "                        let do_more = true;\n",
    "\n",
    "                        while(do_more) {\n",
    "                                               \n",
    "                            //Accept a input from the user. \n",
    "                            let user_input = prompt(\"Enter a word\");\n",
    "                            \n",
    "                            //check if the user input is not a number and then print the length of the input\n",
    "                            \n",
    "                            if(isNaN(user_input)) {\n",
    "                                element.append(\"The length of the word is \"+ user_input.length+ \"</br>\")\n",
    "                            } else {\n",
    "                                element.append(\"You entered number. Only words are allowed. </br>\")\n",
    "                            \n",
    "                            }\n",
    "                            \n",
    "                            let should_continue = prompt(\"Do you want to continue? Press 'n' to stop.\")\n",
    "                            \n",
    "                            if(should_continue === \"n\") {\n",
    "                                do_more = false\n",
    "                            }\n",
    "                            \n",
    "                        }\n",
    "                        \n",
    "                    \"\"\")\n",
    "\n",
    "display(jsvar)"
   ]
  },
  {
   "cell_type": "markdown",
   "metadata": {},
   "source": [
    "<p id=\"14\"></p> <br>\n",
    "\n",
    "<b>switch-case</b> is used to replace multiple if-else if conditions checking the same variable. After one of the conditions is satisfied and the block of code is executed, the control should explicitly break out of the switch block."
   ]
  },
  {
   "cell_type": "code",
   "execution_count": 17,
   "metadata": {},
   "outputs": [
    {
     "data": {
      "application/javascript": [
       "\n",
       "                    let user_input = prompt('Enter a number between 1 to 7');\n",
       "\n",
       "                    //Using logical OR operator to check if the input is a number and it is between 1 to 7\n",
       "                    if(isNaN(user_input) || user_input< 1 || user_input>7) {\n",
       "                        element.text(\"Invalid input\")\n",
       "                    } else {\n",
       "                        user_input = parseInt(user_input)\n",
       "                        switch(user_input){\n",
       "                            case 1: element.text(\"Sunday\");break;\n",
       "                            case 2: element.text(\"Monday\");break;\n",
       "                            case 3: element.text(\"Tuesday\");break;\n",
       "                            case 4: element.text(\"Wednesday\");break;\n",
       "                            case 5: element.text(\"Thursday\");break;\n",
       "                            case 6: element.text(\"Friday\");break;\n",
       "                            case 7: element.text(\"Saturday\");break;\n",
       "                            default: element.text(\"Invalid entry\");\n",
       "                        }\n",
       "                    }\n",
       "                    \n",
       "                    "
      ],
      "text/plain": [
       "<IPython.core.display.Javascript object>"
      ]
     },
     "metadata": {},
     "output_type": "display_data"
    }
   ],
   "source": [
    "\n",
    "jsvar = Javascript(\"\"\"\n",
    "                    let user_input = prompt('Enter a number between 1 to 7');\n",
    "\n",
    "                    //Using logical OR operator to check if the input is a number and it is between 1 to 7\n",
    "                    if(isNaN(user_input) || user_input< 1 || user_input>7) {\n",
    "                        element.text(\"Invalid input\")\n",
    "                    } else {\n",
    "                        user_input = parseInt(user_input)\n",
    "                        switch(user_input){\n",
    "                            case 1: element.text(\"Sunday\");break;\n",
    "                            case 2: element.text(\"Monday\");break;\n",
    "                            case 3: element.text(\"Tuesday\");break;\n",
    "                            case 4: element.text(\"Wednesday\");break;\n",
    "                            case 5: element.text(\"Thursday\");break;\n",
    "                            case 6: element.text(\"Friday\");break;\n",
    "                            case 7: element.text(\"Saturday\");break;\n",
    "                            default: element.text(\"Invalid entry\");\n",
    "                        }\n",
    "                    }\n",
    "                    \n",
    "                    \"\"\")\n",
    "\n",
    "display(jsvar)"
   ]
  },
  {
   "cell_type": "markdown",
   "metadata": {},
   "source": [
    "<a id = \"15\"></a><br>\n",
    "## Collections"
   ]
  },
  {
   "cell_type": "markdown",
   "metadata": {},
   "source": [
    "<a id = \"16\"></a><br>\n",
    "\n",
    "## Array\n",
    "\n",
    "Array is an indexed collection. The index positions are from 0. To access the element in first position, we use 0, second position will be 1 and so on. The index of the last position will always be one less than the length of the array."
   ]
  },
  {
   "cell_type": "code",
   "execution_count": 22,
   "metadata": {},
   "outputs": [
    {
     "data": {
      "application/javascript": [
       "\n",
       "let myArray = [\"Jack\",\"Jill\",4,5,true,\"John\"]\n",
       "\n",
       "element.append(myArray[0], \"</br>\", myArray[5], \"</br>\");\n"
      ],
      "text/plain": [
       "<IPython.core.display.Javascript object>"
      ]
     },
     "metadata": {},
     "output_type": "display_data"
    }
   ],
   "source": [
    "%%js\n",
    "\n",
    "let myArray = [\"Jack\",\"Jill\",4,5,true,\"John\"]\n",
    "\n",
    "element.append(myArray[0], \"</br>\", myArray[5], \"</br>\");"
   ]
  },
  {
   "cell_type": "markdown",
   "metadata": {},
   "source": [
    "<a id = \"17\"></a><br>\n",
    "## forEach\n",
    "\n",
    "To iterare through arrays there is a special for loop, forEach, which executed for each value in"
   ]
  },
  {
   "cell_type": "code",
   "execution_count": 35,
   "metadata": {},
   "outputs": [
    {
     "data": {
      "application/javascript": [
       "\n",
       "let myArray = [\"Jack\",\"Jill\",4,5,true,\"John\"]\n",
       "\n",
       "myArray.forEach(x => {\n",
       "    element.append(x, \"</br>\")\n",
       "})\n"
      ],
      "text/plain": [
       "<IPython.core.display.Javascript object>"
      ]
     },
     "metadata": {},
     "output_type": "display_data"
    }
   ],
   "source": [
    "%%js\n",
    "\n",
    "let myArray = [\"Jack\",\"Jill\",4,5,true,\"John\"]\n",
    "\n",
    "myArray.forEach(x => {\n",
    "    element.append(x, \"</br>\")\n",
    "})"
   ]
  },
  {
   "cell_type": "markdown",
   "metadata": {},
   "source": [
    "<a id = \"18\"></a><br>\n",
    "## Object.entries method\n",
    "\n",
    "To find the index position and the value, we can use the generic Object.entries method, which can be used with all collection objects. This maps each index position to the value."
   ]
  },
  {
   "cell_type": "code",
   "execution_count": 37,
   "metadata": {},
   "outputs": [
    {
     "data": {
      "application/javascript": [
       "\n",
       "let myArray = [\"Jack\",\"Jill\",4,5,true,\"John\"]\n",
       "\n",
       "for (const [idx, value] of Object.entries(myArray)) {\n",
       "  element.append(idx,\" - \",value, \"</br>\");\n",
       "}\n"
      ],
      "text/plain": [
       "<IPython.core.display.Javascript object>"
      ]
     },
     "metadata": {},
     "output_type": "display_data"
    }
   ],
   "source": [
    "%%js\n",
    "\n",
    "let myArray = [\"Jack\",\"Jill\",4,5,true,\"John\"]\n",
    "\n",
    "for (const [idx, value] of Object.entries(myArray)) {\n",
    "  element.append(idx,\" - \",value, \"</br>\");\n",
    "}"
   ]
  },
  {
   "cell_type": "markdown",
   "metadata": {},
   "source": [
    "<a id = \"19\"></a><br>\n",
    "## Map"
   ]
  },
  {
   "cell_type": "code",
   "execution_count": 38,
   "metadata": {},
   "outputs": [
    {
     "data": {
      "application/javascript": [
       "\n",
       "let myMap = new Map();\n",
       "\n",
       "//Here name is key and John is the value. \n",
       "myMap.set(\"name\",\"John\")\n",
       "\n",
       "//Here age is the key and 22 is the value.\n",
       "myMap.set(\"Age\",22)\n",
       "\n",
       "myMap.forEach((val,key) => {\n",
       "    element.append(key,\" - \",val, \"</br>\")\n",
       "})\n"
      ],
      "text/plain": [
       "<IPython.core.display.Javascript object>"
      ]
     },
     "metadata": {},
     "output_type": "display_data"
    }
   ],
   "source": [
    "%%js\n",
    "\n",
    "let myMap = new Map();\n",
    "\n",
    "//Here name is key and John is the value. \n",
    "myMap.set(\"name\",\"John\")\n",
    "\n",
    "//Here age is the key and 22 is the value.\n",
    "myMap.set(\"Age\",22)\n",
    "\n",
    "myMap.forEach((val,key) => {\n",
    "    element.append(key,\" - \",val, \"</br>\")\n",
    "})"
   ]
  },
  {
   "cell_type": "markdown",
   "metadata": {},
   "source": [
    "[Go to the top.](#0)"
   ]
  }
 ],
 "metadata": {
  "kernelspec": {
   "display_name": "Python 3",
   "language": "python",
   "name": "python3"
  },
  "language_info": {
   "codemirror_mode": {
    "name": "ipython",
    "version": 3
   },
   "file_extension": ".py",
   "mimetype": "text/x-python",
   "name": "python",
   "nbconvert_exporter": "python",
   "pygments_lexer": "ipython3",
   "version": "3.7.6"
  }
 },
 "nbformat": 4,
 "nbformat_minor": 4
}
